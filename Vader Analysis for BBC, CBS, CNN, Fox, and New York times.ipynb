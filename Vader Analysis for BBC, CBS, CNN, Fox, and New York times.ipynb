{
 "cells": [
  {
   "cell_type": "code",
   "execution_count": 1,
   "metadata": {
    "collapsed": true
   },
   "outputs": [],
   "source": [
    "#Dependencies\n",
    "import tweepy\n",
    "import json\n",
    "import numpy as np\n",
    "import pandas as pd\n",
    "from vaderSentiment.vaderSentiment import SentimentIntensityAnalyzer\n",
    "analyzer = SentimentIntensityAnalyzer()\n",
    "import matplotlib.pyplot as plt\n",
    "import seaborn as sns\n",
    "import matplotlib.ticker as ticker"
   ]
  },
  {
   "cell_type": "code",
   "execution_count": 3,
   "metadata": {
    "collapsed": true
   },
   "outputs": [],
   "source": [
    "#API Keys for twitter\n",
    "Consumer_APIkey = \"ZlxghovIUf8cC7zFcWbAH1wUh\"\n",
    "Consumer_APIsecret = \"ulJEQVzIAwn22S90JT6zjtSHQsr8n4hKR1Yz1TlNJJ45TNuSUp\"\n",
    "Access_Token = \"772933790498861056-YxzOTJfcJ4m049PgfWG91aSTrjO9xl9\"\n",
    "Access_Tokensecret = \"gbAmLW77rzu50fZvSh9iucmO0gW72stIqnLEPwH4qIwUo\"\n",
    "\n",
    "#Setup Tweepy API Authentication\n",
    "auth = tweepy.OAuthHandler(consumer_key, consumer_secret)\n",
    "auth.set_access_token(access_token, access_token_secret)\n",
    "api = tweepy.API(auth, parser=tweepy.parsers.JSONParser())"
   ]
  },
  {
   "cell_type": "code",
   "execution_count": null,
   "metadata": {
    "collapsed": true
   },
   "outputs": [],
   "source": [
    "#Target Search Term\n",
    "target_terms = ['@BBC','@CBS','@CNN','@FoxNews','@nytimes']"
   ]
  }
 ],
 "metadata": {
  "kernelspec": {
   "display_name": "Python 3",
   "language": "python",
   "name": "python3"
  },
  "language_info": {
   "codemirror_mode": {
    "name": "ipython",
    "version": 3
   },
   "file_extension": ".py",
   "mimetype": "text/x-python",
   "name": "python",
   "nbconvert_exporter": "python",
   "pygments_lexer": "ipython3",
   "version": "3.6.3"
  }
 },
 "nbformat": 4,
 "nbformat_minor": 2
}
